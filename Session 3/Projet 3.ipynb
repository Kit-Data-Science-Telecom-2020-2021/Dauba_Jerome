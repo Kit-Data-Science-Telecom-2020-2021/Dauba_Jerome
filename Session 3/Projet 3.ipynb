{
 "cells": [
  {
   "cell_type": "code",
   "execution_count": null,
   "metadata": {},
   "outputs": [],
   "source": [
    "import re\n",
    "import pandas as pd\n",
    "import unittest\n",
    "import requests\n",
    "from bs4 import BeautifulSoup\n",
    "from multiprocessing import Pool"
   ]
  },
  {
   "cell_type": "code",
   "execution_count": null,
   "metadata": {},
   "outputs": [],
   "source": [
    "URL_PAGE2 = \"https://kim.fspot.org/cours/page2.html\"\n",
    "URL_PAGE3 = \"https://kim.fspot.org/cours/page3.html\""
   ]
  },
  {
   "cell_type": "markdown",
   "metadata": {},
   "source": [
    "1) Ecrire une fonction get_prices_from_url() qui extrait des informations à partir des 2 pages ci-dessus. Exemple get_prices_from_url(URL_PAGE2) doit retourner : {'Personal': {'price': '$5', 'storage': '1GB', 'databases': 1}, 'Small Business': {'price': '$25', 'storage': '10GB', 'databases': 5}, 'Enterprise': {'price': '$45', 'storage': '100GB', 'databases': 25}}"
   ]
  },
  {
   "cell_type": "code",
   "execution_count": null,
   "metadata": {},
   "outputs": [],
   "source": [
    "def get_prices_from_url(url):\n",
    "    \n",
    "    response = requests.get(url)\n",
    "    soup = BeautifulSoup(response.content)\n",
    "    customer_info = soup.find_all('h2')\n",
    "    price_info = soup.find_all('span')[::2]\n",
    "    info = soup.find_all(\"ul\")[1:]\n",
    "\n",
    "    storage_info, database_info = [], []\n",
    "    for ul in info:\n",
    "        database_info.append(ul.find(\"li\", text=re.compile(\".*database.*\")))\n",
    "        storage_info.append(ul.find(\"li\", text=re.compile(\".*storage.*\")))\n",
    "    \n",
    "    prices = {}\n",
    "    for i in range(len(customer_info)):\n",
    "        customer = customer_info[i].text\n",
    "        prices[customer] = {}\n",
    "        prices[customer]['price'] = re.findall('\\$\\d+', price_info[i].text)[0]\n",
    "        prices[customer]['storage'] = re.findall('\\d+.B', storage_info[i].text)[0]\n",
    "        prices[customer]['databases'] = int(re.findall('\\d+', database_info[i].text)[0])\n",
    "        \n",
    "    return(prices)"
   ]
  },
  {
   "cell_type": "code",
   "execution_count": null,
   "metadata": {},
   "outputs": [],
   "source": [
    "dico = get_prices_from_url(URL_PAGE3)\n",
    "dico[\"Personal\"]"
   ]
  },
  {
   "cell_type": "markdown",
   "metadata": {},
   "source": [
    "\n",
    "2) Ecrire une fonction qui extrait des informations sur une bière de beowulf Exemple URL: https://www.beerwulf.com/fr-fr/p/bieres/brouwerij-t-verzet-super-noah.33"
   ]
  },
  {
   "cell_type": "code",
   "execution_count": null,
   "metadata": {},
   "outputs": [],
   "source": [
    "URL_BEER = \"https://www.beerwulf.com/fr-fr/p/bieres/brouwerij-t-verzet-super-noah.33\""
   ]
  },
  {
   "cell_type": "code",
   "execution_count": null,
   "metadata": {},
   "outputs": [],
   "source": [
    "response = requests.get(URL_BEER)\n",
    "soup = BeautifulSoup(response.content)\n",
    "beer = soup.find(\"h1\")\n",
    "info = beer.find_next(\"span\")\n",
    "note = info.find_next(\"span\")\n",
    "price = note.find_next(\"span\")\n",
    "\n",
    "info"
   ]
  },
  {
   "cell_type": "code",
   "execution_count": null,
   "metadata": {},
   "outputs": [],
   "source": [
    "def extract_beer_infos(url):\n",
    "    \n",
    "    response = requests.get(url)\n",
    "    soup = BeautifulSoup(response.content)\n",
    "    beer = soup.find(\"h1\")\n",
    "    info = beer.find_next(\"span\")\n",
    "    note = info.find_next(\"span\")\n",
    "    price = note.find_next(\"span\")\n",
    "    infos = {\n",
    "        'name': beer.text,\n",
    "        'note': float(note.text.strip('()').replace(',', '.')),\n",
    "        'price': float(price.text.strip(\" €\").replace(',', '.')),\n",
    "        'volume': int(re.search('\\d+ cl', info.text)[0].strip(\" cl\"))\n",
    "    }\n",
    "    return(infos)"
   ]
  },
  {
   "cell_type": "code",
   "execution_count": null,
   "metadata": {},
   "outputs": [],
   "source": [
    "extract_beer_infos(URL_BEER)"
   ]
  },
  {
   "cell_type": "code",
   "execution_count": null,
   "metadata": {},
   "outputs": [],
   "source": [
    "URL_BEERLIST_AUTRICHE = \"https://www.beerwulf.com/fr-FR/api/search/searchProducts?country=Autriche&container=Bouteille\""
   ]
  },
  {
   "cell_type": "code",
   "execution_count": null,
   "metadata": {},
   "outputs": [],
   "source": [
    "\n",
    "response = requests.get(URL_BEERLIST_AUTRICHE)\n",
    "data = response.json()\n",
    "data[\"items\"][0][\"contentReference\"]"
   ]
  },
  {
   "cell_type": "markdown",
   "metadata": {},
   "source": [
    "\n",
    "3) Ecrire une fonction qui prend l'argument \"url\" retourne les informations sur une liste de bière via l'API de beowulf. Cette fonction doit retourner la liste des informations obtenues par la fonction extract_beer_infos() définie ci-dessus. Chercher comment optimiser cette fonction en utilisant multiprocessing.Pool pour paralléliser les accès web."
   ]
  },
  {
   "cell_type": "code",
   "execution_count": null,
   "metadata": {},
   "outputs": [],
   "source": [
    "def extract_beer_list_infos(url):\n",
    "    response = requests.get(url)\n",
    "    data = response.json()\n",
    "    base_url = \"https://www.beerwulf.com\"\n",
    "    beer_pages = [base_url + x[\"contentReference\"] for x in data[\"items\"]]\n",
    "    beers = [extract_beer_infos(page) for page in beer_pages]\n",
    "    return(beers)"
   ]
  },
  {
   "cell_type": "code",
   "execution_count": null,
   "metadata": {},
   "outputs": [],
   "source": [
    "class Lesson3Tests(unittest.TestCase):\n",
    "    def test_01_get_prices_from_url_page2(self):\n",
    "        prices = get_prices_from_url(URL_PAGE2)\n",
    "        # We should have found 3 products:\n",
    "        self.assertIsInstance(prices, dict)\n",
    "        self.assertEqual(len(prices), 3)\n",
    "        self.assertIn('Personal', prices)\n",
    "        self.assertIn('Small Business', prices)\n",
    "        self.assertIn('Enterprise', prices)\n",
    "\n",
    "        personal = prices['Personal']\n",
    "        self.assertIn('price', personal)\n",
    "        self.assertIn('storage', personal)\n",
    "        self.assertIn('databases', personal)\n",
    "        self.assertEqual(personal['price'], '$5')\n",
    "        self.assertEqual(personal['storage'], '1GB')\n",
    "        self.assertEqual(personal['databases'], 1)\n",
    "\n",
    "    def test_02_get_prices_from_url_page3(self):\n",
    "        prices = get_prices_from_url(URL_PAGE3)\n",
    "        self.assertIsInstance(prices, dict)\n",
    "        self.assertEqual(len(prices), 4)\n",
    "        self.assertEqual(\n",
    "            prices['Privilege'],\n",
    "            {'databases': 100, 'price': '$99', 'storage': '1TB'}\n",
    "        )\n",
    "\n",
    "    def test_03_extract_beer_list_infos(self):\n",
    "        infos = extract_beer_list_infos(URL_BEERLIST_AUTRICHE)\n",
    "        # >Il y a 9 bières autrichiennes :\n",
    "        self.assertIsInstance(infos, list)\n",
    "        self.assertEqual(len(infos), 9)\n",
    "        # toutes ont 33cl :\n",
    "        for beer in infos:\n",
    "            self.assertEqual(beer['volume'], 33)\n",
    "\n",
    "        "
   ]
  },
  {
   "cell_type": "code",
   "execution_count": null,
   "metadata": {},
   "outputs": [],
   "source": [
    "\n",
    "def run_tests():\n",
    "    test_suite = unittest.makeSuite(Lesson3Tests)\n",
    "    runner = unittest.TextTestRunner(verbosity=2)\n",
    "    runner.run(test_suite)\n",
    "\n",
    "if __name__ == '__main__':\n",
    "    run_tests()"
   ]
  }
 ],
 "metadata": {
  "kernelspec": {
   "display_name": "Python 3",
   "language": "python",
   "name": "python3"
  },
  "language_info": {
   "codemirror_mode": {
    "name": "ipython",
    "version": 3
   },
   "file_extension": ".py",
   "mimetype": "text/x-python",
   "name": "python",
   "nbconvert_exporter": "python",
   "pygments_lexer": "ipython3",
   "version": "3.8.3"
  }
 },
 "nbformat": 4,
 "nbformat_minor": 4
}
