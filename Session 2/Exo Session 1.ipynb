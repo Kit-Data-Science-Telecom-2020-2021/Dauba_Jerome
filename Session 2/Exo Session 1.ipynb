{
 "cells": [
  {
   "cell_type": "code",
   "execution_count": 21,
   "metadata": {},
   "outputs": [
    {
     "data": {
      "text/plain": [
       "[{'name': 'Paris',\n",
       "  'country': 'FR',\n",
       "  'date': '2019-09-25 18:00:00',\n",
       "  'temp': 289.15},\n",
       " {'name': 'Paris',\n",
       "  'country': 'FR',\n",
       "  'date': '2019-09-25 21:00:00',\n",
       "  'temp': 289.62},\n",
       " {'name': 'London',\n",
       "  'country': 'GB',\n",
       "  'date': '2019-09-25 18:00:00',\n",
       "  'temp': 289.52},\n",
       " {'name': 'London',\n",
       "  'country': 'GB',\n",
       "  'date': '2019-09-25 21:00:00',\n",
       "  'temp': 287.78}]"
      ]
     },
     "execution_count": 21,
     "metadata": {},
     "output_type": "execute_result"
    }
   ],
   "source": [
    "weather_data = {\n",
    "    \"Paris\": {\n",
    "        \"weather_list\": [{\n",
    "            \"dt\": 1569434400,\n",
    "            \"main\": {\"temp\": 289.15, \"humidity\": 76},\n",
    "            \"dt_txt\": \"2019-09-25 18:00:00\"\n",
    "        }, {\n",
    "            \"dt\": 1569445200,\n",
    "            \"main\": {\n",
    "                \"temp\": 289.62,\n",
    "                \"humidity\": 87\n",
    "            },\n",
    "            \"dt_txt\": \"2019-09-25 21:00:00\"\n",
    "        }],\n",
    "        \"metadata\": {\n",
    "            \"coord\": {\"lat\": 48.8566, \"lon\": 2.3515},\n",
    "            \"country\": \"FR\",\n",
    "        }\n",
    "    },\n",
    "    \"London\": {\n",
    "        \"weather_list\": [{\n",
    "            \"dt\": 1569434400,\n",
    "            \"main\": {\"temp\": 289.52, \"humidity\": 77},\n",
    "            \"dt_txt\": \"2019-09-25 18:00:00\"\n",
    "        }, {\n",
    "            \"dt\": 1569445200,\n",
    "            \"main\": {\"temp\": 287.78, \"humidity\": 86},\n",
    "            \"dt_txt\": \"2019-09-25 21:00:00\"\n",
    "        }],\n",
    "        \"metadata\": {\n",
    "            \"coord\": {\"lat\": 51.5073, \"lon\": -0.1277},\n",
    "            \"country\": \"GB\",\n",
    "        }\n",
    "    }\n",
    "}\n",
    "\n",
    "\n",
    "# Given the above data, write a function which return a list of dict,\n",
    "# where each dict contains these fields:\n",
    "# - name (str): the city name\n",
    "# - country (str): the city country\n",
    "# - date (str): the date\n",
    "# - temp (float): the temperature in °celsius (not °kelvin)\n",
    "def extract_data(data):\n",
    "    list = []\n",
    "    for city_name, city_data in data.items() :\n",
    "        for weather in city_data[\"weather_list\"] : \n",
    "            dico = {\n",
    "                \"name\": city_name,\n",
    "                \"country\" : city_data[\"metadata\"][\"country\"],\n",
    "                \"date\" : weather[\"dt_txt\"],\n",
    "                \"temp\" : weather[\"main\"][\"temp\"],\n",
    "            }\n",
    "            list.append(dico)\n",
    "    return(list)\n",
    "    \n",
    "extract_data(weather_data)"
   ]
  }
 ],
 "metadata": {
  "kernelspec": {
   "display_name": "Python 3",
   "language": "python",
   "name": "python3"
  },
  "language_info": {
   "codemirror_mode": {
    "name": "ipython",
    "version": 3
   },
   "file_extension": ".py",
   "mimetype": "text/x-python",
   "name": "python",
   "nbconvert_exporter": "python",
   "pygments_lexer": "ipython3",
   "version": "3.8.3"
  }
 },
 "nbformat": 4,
 "nbformat_minor": 4
}
